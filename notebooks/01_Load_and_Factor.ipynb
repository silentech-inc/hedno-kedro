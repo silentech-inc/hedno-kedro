{
 "cells": [
  {
   "cell_type": "markdown",
   "id": "e6d4ab42-a665-41b4-bbe8-85b4b8b68e8d",
   "metadata": {},
   "source": [
    "# HEDNO Load Data and Factor IDs"
   ]
  },
  {
   "cell_type": "code",
   "execution_count": null,
   "id": "f3b0760d-effc-459e-a073-bfa22328b730",
   "metadata": {
    "tags": []
   },
   "outputs": [],
   "source": [
    "import pandas as pd\n",
    "\n",
    "from hedno.pipelines.preprocess import nodes as prp"
   ]
  },
  {
   "cell_type": "code",
   "execution_count": null,
   "id": "690acdf2-27ee-48f4-98db-68b6196575f6",
   "metadata": {
    "tags": []
   },
   "outputs": [],
   "source": [
    "pd.options.display.memory_usage = \"deep\"\n",
    "pd.options.display.show_dimensions = True"
   ]
  },
  {
   "cell_type": "markdown",
   "id": "9effec37-0f0b-42b2-95f0-bc9829d06382",
   "metadata": {},
   "source": [
    "## Categories"
   ]
  },
  {
   "cell_type": "code",
   "execution_count": null,
   "id": "54a9ee48-7f8c-4c18-a517-76c2d5ebccca",
   "metadata": {},
   "outputs": [],
   "source": [
    "prp.PHASE_TYPE"
   ]
  },
  {
   "cell_type": "code",
   "execution_count": null,
   "id": "f81a0d6e-0517-4830-9d46-bf8f3b3f2eeb",
   "metadata": {},
   "outputs": [],
   "source": [
    "prp.REQUEST_TYPE"
   ]
  },
  {
   "cell_type": "code",
   "execution_count": null,
   "id": "c3c96f8c-c575-41bf-858b-b93e669fbd30",
   "metadata": {},
   "outputs": [],
   "source": [
    "prp.VOLTAGE_TYPE"
   ]
  },
  {
   "cell_type": "markdown",
   "id": "f60b3c7f-ff2e-4c66-83ba-ed47816c2907",
   "metadata": {},
   "source": [
    "## Load utility datasets"
   ]
  },
  {
   "cell_type": "markdown",
   "id": "a2389643-3dae-4108-846e-2d44f1e48d08",
   "metadata": {},
   "source": [
    "### Rates"
   ]
  },
  {
   "cell_type": "code",
   "execution_count": null,
   "id": "c370247e-5058-4ed2-b757-c24d2aaf0047",
   "metadata": {
    "tags": []
   },
   "outputs": [],
   "source": [
    "preprocessed_rates = (\n",
    "    catalog\n",
    "    .load(\"raw_rates\")\n",
    "    .pipe(prp.preprocess_rates)\n",
    ")\n",
    "\n",
    "preprocessed_rates"
   ]
  },
  {
   "cell_type": "code",
   "execution_count": null,
   "id": "ba3e7eae-6c99-466d-b282-407b48eca8a9",
   "metadata": {
    "tags": []
   },
   "outputs": [],
   "source": [
    "preprocessed_rates.info(show_counts=True)"
   ]
  },
  {
   "cell_type": "markdown",
   "id": "6bff5de7-ec3a-4f50-8695-8ae8fa095462",
   "metadata": {},
   "source": [
    "### Powers"
   ]
  },
  {
   "cell_type": "code",
   "execution_count": null,
   "id": "128cae75-f1ac-435d-ab2c-aeaf6b8290ea",
   "metadata": {
    "tags": []
   },
   "outputs": [],
   "source": [
    "preprocessed_powers = (\n",
    "    catalog\n",
    "    .load(\"raw_powers\")\n",
    "    .pipe(prp.preprocess_powers)\n",
    ")\n",
    "\n",
    "preprocessed_powers"
   ]
  },
  {
   "cell_type": "code",
   "execution_count": null,
   "id": "6ba0b20c-3b64-4400-81b9-8733ee41b472",
   "metadata": {
    "scrolled": true,
    "tags": []
   },
   "outputs": [],
   "source": [
    "preprocessed_powers.info(show_counts=True)"
   ]
  },
  {
   "cell_type": "markdown",
   "id": "5214e8bb-7e5f-44de-9f07-78fab92dc8c5",
   "metadata": {},
   "source": [
    "### Suppliers"
   ]
  },
  {
   "cell_type": "code",
   "execution_count": null,
   "id": "5c66c063-abed-4a21-accd-e46fcf9db071",
   "metadata": {
    "tags": []
   },
   "outputs": [],
   "source": [
    "preprocessed_suppliers = (\n",
    "    catalog\n",
    "    .load(\"raw_suppliers\")\n",
    "    .pipe(prp.preprocess_suppliers)\n",
    ")\n",
    "\n",
    "preprocessed_suppliers"
   ]
  },
  {
   "cell_type": "code",
   "execution_count": null,
   "id": "0268e66f-09df-4a7e-bf29-c216a2530799",
   "metadata": {
    "tags": []
   },
   "outputs": [],
   "source": [
    "preprocessed_suppliers.info(show_counts=True)"
   ]
  },
  {
   "cell_type": "markdown",
   "id": "2baf05f8-71d1-463e-a946-d529f4f47570",
   "metadata": {},
   "source": [
    "### Uses"
   ]
  },
  {
   "cell_type": "code",
   "execution_count": null,
   "id": "608d8494-8bb6-4b90-a7f5-90e1446481c6",
   "metadata": {
    "tags": []
   },
   "outputs": [],
   "source": [
    "preprocessed_uses = (\n",
    "    catalog\n",
    "    .load(\"raw_uses\")\n",
    "    .pipe(prp.preprocess_uses)\n",
    ")\n",
    "\n",
    "preprocessed_uses"
   ]
  },
  {
   "cell_type": "code",
   "execution_count": null,
   "id": "977cbd05-e7d1-49f0-940a-65c0a4823935",
   "metadata": {
    "tags": []
   },
   "outputs": [],
   "source": [
    "preprocessed_uses.info(show_counts=True)"
   ]
  },
  {
   "cell_type": "markdown",
   "id": "a9e48008-0eb2-4e9c-8936-8ed5c0532a1e",
   "metadata": {},
   "source": [
    "## Load main datasets"
   ]
  },
  {
   "cell_type": "markdown",
   "id": "8d962414-42e1-4ad3-a058-cf87d656844c",
   "metadata": {},
   "source": [
    "### Records"
   ]
  },
  {
   "cell_type": "markdown",
   "id": "c29810dd-11c4-45ff-981b-24a80a964a60",
   "metadata": {},
   "source": [
    "#### Test"
   ]
  },
  {
   "cell_type": "code",
   "execution_count": null,
   "id": "66153e39-b383-4e1b-a9bd-73f929f261e7",
   "metadata": {
    "tags": []
   },
   "outputs": [],
   "source": [
    "records_test = catalog.load(\"raw_records_test\")\n",
    "\n",
    "records_test"
   ]
  },
  {
   "cell_type": "code",
   "execution_count": null,
   "id": "516dee32-9606-4d2f-b316-a2d5baaf1773",
   "metadata": {
    "tags": []
   },
   "outputs": [],
   "source": [
    "records_test.info(show_counts=True)"
   ]
  },
  {
   "cell_type": "markdown",
   "id": "5d4132a1-11f6-4fca-a123-1a9bd71683d0",
   "metadata": {},
   "source": [
    "#### Train"
   ]
  },
  {
   "cell_type": "code",
   "execution_count": null,
   "id": "ad50f309-893e-44f2-8e38-017de1bd9195",
   "metadata": {
    "tags": []
   },
   "outputs": [],
   "source": [
    "records_train = catalog.load(\"raw_records_train\")\n",
    "\n",
    "records_train"
   ]
  },
  {
   "cell_type": "code",
   "execution_count": null,
   "id": "e8040411-d6c4-46f3-946b-fc46c5c455c9",
   "metadata": {
    "tags": []
   },
   "outputs": [],
   "source": [
    "records_train.info(show_counts=True)"
   ]
  },
  {
   "cell_type": "markdown",
   "id": "e0b9ebff-ae7b-4871-a6a7-fb814f383983",
   "metadata": {},
   "source": [
    "#### Merge and preprocess"
   ]
  },
  {
   "cell_type": "code",
   "execution_count": null,
   "id": "72b968a2-1a7b-490e-b5ba-71850dac0f70",
   "metadata": {
    "tags": []
   },
   "outputs": [],
   "source": [
    "records = (\n",
    "    prp\n",
    "    .concat_annotated_train_and_test(\n",
    "        test_df=records_test,\n",
    "        train_df=records_train\n",
    "    )\n",
    "    .pipe(prp.preprocess_records)\n",
    ")\n",
    "\n",
    "records"
   ]
  },
  {
   "cell_type": "code",
   "execution_count": null,
   "id": "f300c2cb-fb22-4ed6-b074-7971a1a62c25",
   "metadata": {
    "tags": []
   },
   "outputs": [],
   "source": [
    "records.info(show_counts=True)"
   ]
  },
  {
   "cell_type": "markdown",
   "id": "aaf98109-0eef-40f7-b9bd-d53fec04aec0",
   "metadata": {},
   "source": [
    "#### Check Unique Key"
   ]
  },
  {
   "cell_type": "code",
   "execution_count": null,
   "id": "132bdfc4-19f0-481a-bdbd-6df9770022e0",
   "metadata": {},
   "outputs": [],
   "source": [
    "RECORDS_UNIQUE_KEY = [\"ACCT_NBR\", \"successor\"]\n",
    "\n",
    "records[records.duplicated(subset=RECORDS_UNIQUE_KEY, keep=False)]"
   ]
  },
  {
   "cell_type": "markdown",
   "id": "7c673fac-bc44-4604-8eb6-91536e5cd750",
   "metadata": {},
   "source": [
    "`(ACCT_NBR, successor)` is UNIQUE KEY in the merged `Records` dataset. Use the accompanying `test` entry in `Records` as source of truth for train VS test labelling, and **ignore** any such train VS test distinction in `Consumptions`, `Representations` and `Requests`."
   ]
  },
  {
   "cell_type": "markdown",
   "id": "53a0b8f0-5de6-436c-b61f-d8b3139aa64b",
   "metadata": {},
   "source": [
    "### Representations"
   ]
  },
  {
   "cell_type": "markdown",
   "id": "0856043f-44ff-4541-b673-6ffc03120892",
   "metadata": {},
   "source": [
    "#### Test"
   ]
  },
  {
   "cell_type": "code",
   "execution_count": null,
   "id": "9b112028-1aeb-4f60-93e2-8033e2113075",
   "metadata": {},
   "outputs": [],
   "source": [
    "representations_test = catalog.load(\"raw_representations_test\")\n",
    "\n",
    "representations_test"
   ]
  },
  {
   "cell_type": "code",
   "execution_count": null,
   "id": "45866e2e-6c2a-4c4d-8271-5f143d084836",
   "metadata": {
    "tags": []
   },
   "outputs": [],
   "source": [
    "representations_test.info(show_counts=True)"
   ]
  },
  {
   "cell_type": "markdown",
   "id": "5eaaeca3-aea8-4485-8ebf-1c1cf9585b80",
   "metadata": {},
   "source": [
    "#### Train"
   ]
  },
  {
   "cell_type": "code",
   "execution_count": null,
   "id": "66219bd0-5687-4a72-9cd0-b8f9a7bebeba",
   "metadata": {
    "tags": []
   },
   "outputs": [],
   "source": [
    "representations_train = (\n",
    "    catalog\n",
    "    .load(\"raw_representations_train\")\n",
    "    .pipe(prp.hotfix_representations_train)\n",
    ")\n",
    "\n",
    "representations_train"
   ]
  },
  {
   "cell_type": "code",
   "execution_count": null,
   "id": "eda76db6-6b61-44ce-aa23-b087b19fd674",
   "metadata": {
    "tags": []
   },
   "outputs": [],
   "source": [
    "representations_train.info(show_counts=True)"
   ]
  },
  {
   "cell_type": "markdown",
   "id": "9ff130d3-17bb-419a-8995-172c0dd604ac",
   "metadata": {},
   "source": [
    "#### Merge and preprocess"
   ]
  },
  {
   "cell_type": "code",
   "execution_count": null,
   "id": "ee25e50a-b27c-44e4-a5ff-16d9e3f88688",
   "metadata": {
    "tags": []
   },
   "outputs": [],
   "source": [
    "representations = (\n",
    "    prp\n",
    "    .concat_train_and_test(\n",
    "        test_df=representations_test,\n",
    "        train_df=representations_train\n",
    "    )\n",
    "    .pipe(prp.preprocess_representations)\n",
    ")\n",
    "\n",
    "representations"
   ]
  },
  {
   "cell_type": "code",
   "execution_count": null,
   "id": "44dc9152-0e33-4e2e-b2c5-d6b29f7974d2",
   "metadata": {
    "tags": []
   },
   "outputs": [],
   "source": [
    "representations.info(show_counts=True)"
   ]
  },
  {
   "cell_type": "markdown",
   "id": "a78919c0-1e40-44d3-bbc9-fad9b5910c6a",
   "metadata": {},
   "source": [
    "### Requests"
   ]
  },
  {
   "cell_type": "markdown",
   "id": "a3ef2da0-bf35-4620-a931-2ffe0a43e4a0",
   "metadata": {},
   "source": [
    "#### Test"
   ]
  },
  {
   "cell_type": "code",
   "execution_count": null,
   "id": "82f7016f-3b99-4c7d-9e27-d55a307dbff9",
   "metadata": {
    "tags": []
   },
   "outputs": [],
   "source": [
    "requests_test = catalog.load(\"raw_requests_test\")\n",
    "\n",
    "requests_test"
   ]
  },
  {
   "cell_type": "code",
   "execution_count": null,
   "id": "0183d1d7-f56b-46a4-8b4c-956cb2b0d516",
   "metadata": {
    "tags": []
   },
   "outputs": [],
   "source": [
    "requests_test.info(show_counts=True)"
   ]
  },
  {
   "cell_type": "markdown",
   "id": "c1f5ce42-bce8-444f-95c0-420f389948be",
   "metadata": {},
   "source": [
    "#### Train"
   ]
  },
  {
   "cell_type": "code",
   "execution_count": null,
   "id": "f3a6df47-3dc3-490d-b90e-36991a7209ca",
   "metadata": {
    "tags": []
   },
   "outputs": [],
   "source": [
    "requests_train = (\n",
    "    catalog\n",
    "    .load(\"raw_requests_train\")\n",
    "    .pipe(prp.hotfix_requests_train)\n",
    ")\n",
    "\n",
    "requests_train"
   ]
  },
  {
   "cell_type": "code",
   "execution_count": null,
   "id": "79e4ebf9-b2e3-4a38-8fdb-b7fe1e42f061",
   "metadata": {
    "scrolled": true,
    "tags": []
   },
   "outputs": [],
   "source": [
    "requests_train.info(show_counts=True)"
   ]
  },
  {
   "cell_type": "markdown",
   "id": "a35a21cb-b626-4c43-aef4-8359a6a8a669",
   "metadata": {},
   "source": [
    "#### Merge and preprocess"
   ]
  },
  {
   "cell_type": "code",
   "execution_count": null,
   "id": "f27cd13f-4fda-4af7-bc28-01dcc63fdd19",
   "metadata": {
    "tags": []
   },
   "outputs": [],
   "source": [
    "requests = (\n",
    "    prp\n",
    "    .concat_train_and_test(\n",
    "        test_df=requests_test,\n",
    "        train_df=requests_train\n",
    "    )\n",
    "    .pipe(prp.preprocess_requests)\n",
    ")\n",
    "\n",
    "requests"
   ]
  },
  {
   "cell_type": "code",
   "execution_count": null,
   "id": "5a05be01-95f1-4f79-87ee-7b7d973aebc4",
   "metadata": {
    "tags": []
   },
   "outputs": [],
   "source": [
    "requests.info(show_counts=True)"
   ]
  },
  {
   "cell_type": "markdown",
   "id": "21cbfa76-084b-463e-aca8-a0d8825c7195",
   "metadata": {},
   "source": [
    "### Consumptions"
   ]
  },
  {
   "cell_type": "markdown",
   "id": "43b42955-574c-406b-8179-834042455a35",
   "metadata": {},
   "source": [
    "#### Test"
   ]
  },
  {
   "cell_type": "code",
   "execution_count": null,
   "id": "a4fde4eb-a08f-4a37-b19f-79b34bacb9a2",
   "metadata": {
    "tags": []
   },
   "outputs": [],
   "source": [
    "constt = catalog.load(\"raw_consumptions_test\")\n",
    "\n",
    "constt"
   ]
  },
  {
   "cell_type": "code",
   "execution_count": null,
   "id": "96d32bec-d79a-440d-b80f-1b0c79e0130a",
   "metadata": {
    "tags": []
   },
   "outputs": [],
   "source": [
    "constt.info(show_counts=True)"
   ]
  },
  {
   "cell_type": "markdown",
   "id": "3c2fac46-98b4-4d0b-ab24-589b8ea2f226",
   "metadata": {},
   "source": [
    "#### Train"
   ]
  },
  {
   "cell_type": "code",
   "execution_count": null,
   "id": "7a60576e-4b3c-4ba9-8474-f21854307892",
   "metadata": {
    "tags": []
   },
   "outputs": [],
   "source": [
    "constr = catalog.load(\"raw_consumptions_train\")\n",
    "\n",
    "constr"
   ]
  },
  {
   "cell_type": "code",
   "execution_count": null,
   "id": "bf9c8c60-808a-4591-8151-0b0d8b876228",
   "metadata": {
    "scrolled": true,
    "tags": []
   },
   "outputs": [],
   "source": [
    "constr.info(show_counts=True)"
   ]
  },
  {
   "cell_type": "markdown",
   "id": "9983ce3e-9ff5-45c7-9ce5-8b22324c62fc",
   "metadata": {},
   "source": [
    "#### Merge and preprocess"
   ]
  },
  {
   "cell_type": "code",
   "execution_count": null,
   "id": "9839d95e-55a9-4911-b40b-3fb962641d3d",
   "metadata": {
    "tags": []
   },
   "outputs": [],
   "source": [
    "consumptions = (\n",
    "    prp\n",
    "    .concat_train_and_test(\n",
    "        test_df=constt,\n",
    "        train_df=constr\n",
    "    )\n",
    "    .pipe(prp.preprocess_consumptions)\n",
    ")\n",
    "\n",
    "consumptions"
   ]
  },
  {
   "cell_type": "code",
   "execution_count": null,
   "id": "7703b835-7ceb-40e1-b8d3-c06208225d30",
   "metadata": {
    "tags": []
   },
   "outputs": [],
   "source": [
    "consumptions.info(show_counts=True)"
   ]
  },
  {
   "cell_type": "markdown",
   "id": "2b22069a-501d-4b77-b9a5-577256c184e2",
   "metadata": {},
   "source": [
    "### PowerThefts"
   ]
  },
  {
   "cell_type": "code",
   "execution_count": null,
   "id": "03578e87-c13f-4815-accb-95c4dbf6c1ef",
   "metadata": {
    "tags": []
   },
   "outputs": [],
   "source": [
    "powerthefts = (\n",
    "    catalog\n",
    "    .load(\"raw_powerthefts\")\n",
    "    .pipe(prp.hotfix_powerthefts)\n",
    "    .pipe(prp.preprocess_powerthefts)\n",
    ")\n",
    "\n",
    "powerthefts"
   ]
  },
  {
   "cell_type": "code",
   "execution_count": null,
   "id": "6ad44470-3d8f-4b0b-a2d0-b7825a82ca0b",
   "metadata": {},
   "outputs": [],
   "source": [
    "powerthefts.info(show_counts=True)"
   ]
  },
  {
   "cell_type": "markdown",
   "id": "4f6df9af-08bb-4c71-87b2-dcb771d2af3c",
   "metadata": {},
   "source": [
    "### Tests"
   ]
  },
  {
   "cell_type": "code",
   "execution_count": null,
   "id": "b4dcc58a-a7c4-4ab2-b711-cfa3ebb36d6b",
   "metadata": {
    "tags": []
   },
   "outputs": [],
   "source": [
    "preprocessed_tests = (\n",
    "    catalog\n",
    "    .load(\"raw_tests\")\n",
    "    .pipe(prp.preprocess_tests)\n",
    ")\n",
    "\n",
    "preprocessed_tests"
   ]
  },
  {
   "cell_type": "code",
   "execution_count": null,
   "id": "d4c8fddd-444f-46a5-bfeb-4cb888052d6f",
   "metadata": {
    "scrolled": true,
    "tags": []
   },
   "outputs": [],
   "source": [
    "preprocessed_tests.info(show_counts=True)"
   ]
  },
  {
   "cell_type": "markdown",
   "id": "7ae36679-752b-4579-8f3d-05f9f0a6fa84",
   "metadata": {},
   "source": [
    "## Construct ID spaces"
   ]
  },
  {
   "cell_type": "markdown",
   "id": "70d63f50-283e-4094-97db-ddfda7db047a",
   "metadata": {},
   "source": [
    "### Acounts"
   ]
  },
  {
   "cell_type": "code",
   "execution_count": null,
   "id": "a4a969f6-1e22-4a82-8090-06b27f9e5fa4",
   "metadata": {},
   "outputs": [],
   "source": [
    "%%time\n",
    "\n",
    "accounts = prp.collect_accounts(\n",
    "    consumptions=consumptions,\n",
    "    powerthefts=powerthefts,\n",
    "    records=records,\n",
    "    representations=representations,\n",
    "    requests=requests,\n",
    "    tests=preprocessed_tests\n",
    ")\n",
    "\n",
    "accounts"
   ]
  },
  {
   "cell_type": "code",
   "execution_count": null,
   "id": "51a68ba4-6737-4fcb-9f3e-90f7455ac260",
   "metadata": {
    "tags": []
   },
   "outputs": [],
   "source": [
    "accounts.info(show_counts=True)"
   ]
  },
  {
   "cell_type": "markdown",
   "id": "9485f02b-823f-42e8-bcef-79430cce40c3",
   "metadata": {},
   "source": [
    "### Meters"
   ]
  },
  {
   "cell_type": "code",
   "execution_count": null,
   "id": "c9515fd0-8a96-4110-8911-889416746864",
   "metadata": {
    "tags": []
   },
   "outputs": [],
   "source": [
    "%%time\n",
    "\n",
    "meters = prp.collect_meters(consumptions)\n",
    "\n",
    "meters"
   ]
  },
  {
   "cell_type": "code",
   "execution_count": null,
   "id": "c3d4a0d4-97be-4136-9f21-3e7e4a85bab5",
   "metadata": {
    "tags": []
   },
   "outputs": [],
   "source": [
    "meters.info(show_counts=True)"
   ]
  },
  {
   "cell_type": "markdown",
   "id": "fb5162b4-485a-48c4-a514-de14dba9c2ce",
   "metadata": {},
   "source": [
    "### Methods"
   ]
  },
  {
   "cell_type": "code",
   "execution_count": null,
   "id": "dc2eda61-bcf8-4955-93eb-827398ab55b9",
   "metadata": {
    "tags": []
   },
   "outputs": [],
   "source": [
    "methods = prp.collect_methods(powerthefts=powerthefts)\n",
    "\n",
    "methods"
   ]
  },
  {
   "cell_type": "code",
   "execution_count": null,
   "id": "dd382428-db50-4a86-bc47-b759a9205fd3",
   "metadata": {
    "tags": []
   },
   "outputs": [],
   "source": [
    "methods.info(show_counts=True)"
   ]
  },
  {
   "cell_type": "markdown",
   "id": "6aa8ba5c-7507-4f00-9a73-2ba6ad5b2675",
   "metadata": {},
   "source": [
    "### Places"
   ]
  },
  {
   "cell_type": "code",
   "execution_count": null,
   "id": "014245d0-5f42-4c49-95de-2f6a95d9387d",
   "metadata": {
    "tags": []
   },
   "outputs": [],
   "source": [
    "places = prp.collect_places(powerthefts=powerthefts)\n",
    "\n",
    "places"
   ]
  },
  {
   "cell_type": "code",
   "execution_count": null,
   "id": "50ee287d-8e23-4ade-852f-5385edb61703",
   "metadata": {
    "tags": []
   },
   "outputs": [],
   "source": [
    "places.info(show_counts=True)"
   ]
  },
  {
   "cell_type": "markdown",
   "id": "a9d5bd98-8eb7-4b55-9cb1-7774bb85f1d6",
   "metadata": {},
   "source": [
    "### Powers"
   ]
  },
  {
   "cell_type": "code",
   "execution_count": null,
   "id": "3b0a97c2-4afa-45b3-83bf-8709a0da65c0",
   "metadata": {},
   "outputs": [],
   "source": [
    "powers = prp.collect_powers(powers=preprocessed_powers, records=records)\n",
    "\n",
    "powers"
   ]
  },
  {
   "cell_type": "code",
   "execution_count": null,
   "id": "2ed35072-2279-44d7-bb1d-4ee0c5629ea4",
   "metadata": {
    "tags": []
   },
   "outputs": [],
   "source": [
    "powers.info(show_counts=True)"
   ]
  },
  {
   "cell_type": "markdown",
   "id": "360317c8-7da1-4840-9e99-a65a87227321",
   "metadata": {},
   "source": [
    "### Suppliers"
   ]
  },
  {
   "cell_type": "code",
   "execution_count": null,
   "id": "925043cd-333b-458c-b37f-b263f01d46ad",
   "metadata": {
    "tags": []
   },
   "outputs": [],
   "source": [
    "suppliers = prp.collect_suppliers(\n",
    "    representations=representations,\n",
    "    suppliers=preprocessed_suppliers\n",
    ")\n",
    "\n",
    "suppliers"
   ]
  },
  {
   "cell_type": "code",
   "execution_count": null,
   "id": "b52b13d2-2285-4e6a-b428-154b2f51d23c",
   "metadata": {
    "tags": []
   },
   "outputs": [],
   "source": [
    "suppliers.info(show_counts=True)"
   ]
  },
  {
   "cell_type": "markdown",
   "id": "d71b4ece-323d-4a29-a8f4-196c4b3c6b27",
   "metadata": {
    "tags": []
   },
   "source": [
    "#### Missing suppliers\n",
    "\n",
    "The following supplier(s) appear in `Representations` but not in `Suppliers`, thus their `supplier_name` is missing.\n",
    "\n",
    "Note: Supplier `Π` also appears in `Representations` only, but has been hotfixed to (known supplier) `π`, as there was only 1 such entry."
   ]
  },
  {
   "cell_type": "code",
   "execution_count": null,
   "id": "dffc6883-c5f2-476a-8e38-20066d7b7630",
   "metadata": {
    "tags": []
   },
   "outputs": [],
   "source": [
    "suppliers.query(\"supplier_name.isna()\")"
   ]
  },
  {
   "cell_type": "markdown",
   "id": "77685170-7fff-4a8b-bc43-7024a99e7950",
   "metadata": {},
   "source": [
    "### Rates"
   ]
  },
  {
   "cell_type": "code",
   "execution_count": null,
   "id": "0134dbe3-bc26-4a6c-885e-1e922e17b4f2",
   "metadata": {},
   "outputs": [],
   "source": [
    "rates = prp.collect_rates(consumptions=consumptions, rates=preprocessed_rates)\n",
    "\n",
    "rates"
   ]
  },
  {
   "cell_type": "code",
   "execution_count": null,
   "id": "b43e6b85-2584-4f79-9705-ab9c18d30fff",
   "metadata": {
    "tags": []
   },
   "outputs": [],
   "source": [
    "rates.info(show_counts=True)"
   ]
  },
  {
   "cell_type": "markdown",
   "id": "935aaf39-9d77-45dd-ab4f-ea65dd30e463",
   "metadata": {},
   "source": [
    "#### Missing rates\n",
    "The following rates appear in `Consumptions` but not in `Rates`, and thus their `rate_name` is missing."
   ]
  },
  {
   "cell_type": "code",
   "execution_count": null,
   "id": "9662bf78-534d-40c2-bd76-f79dba7a37e5",
   "metadata": {},
   "outputs": [],
   "source": [
    "rates.query(\"rate_name.isna()\")"
   ]
  },
  {
   "cell_type": "markdown",
   "id": "33e313ad-103f-4bdd-a01c-05cf4d5d23ff",
   "metadata": {},
   "source": [
    "### Suppliers"
   ]
  },
  {
   "cell_type": "code",
   "execution_count": null,
   "id": "a6726937-d33a-4876-9de6-1a30a025d532",
   "metadata": {
    "tags": []
   },
   "outputs": [],
   "source": [
    "suppliers = prp.collect_suppliers(\n",
    "    representations=representations,\n",
    "    suppliers=preprocessed_suppliers\n",
    ")\n",
    "\n",
    "suppliers"
   ]
  },
  {
   "cell_type": "code",
   "execution_count": null,
   "id": "d5db8f82-4c2c-420e-8f02-06e353a566db",
   "metadata": {
    "tags": []
   },
   "outputs": [],
   "source": [
    "suppliers.info(show_counts=True)"
   ]
  },
  {
   "cell_type": "markdown",
   "id": "7b671c81-e564-4969-97f9-ab12f3fe1345",
   "metadata": {
    "tags": []
   },
   "source": [
    "#### Missing suppliers\n",
    "\n",
    "The following supplier(s) appear in `Representations` but not in `Suppliers`, thus their `supplier_name` is missing.\n",
    "\n",
    "Note: Supplier `Π` also appears in `Representations` only, but has been hotfixed to (known supplier) `π`, as there was only 1 such entry."
   ]
  },
  {
   "cell_type": "code",
   "execution_count": null,
   "id": "ac1291e7-b344-454f-b6c5-8c0f8d7b57cd",
   "metadata": {
    "tags": []
   },
   "outputs": [],
   "source": [
    "suppliers.query(\"supplier_name.isna()\")"
   ]
  },
  {
   "cell_type": "markdown",
   "id": "23401094-ddd5-4e98-92b4-3faf7230e7b8",
   "metadata": {},
   "source": [
    "### Uses"
   ]
  },
  {
   "cell_type": "code",
   "execution_count": null,
   "id": "1da5aa4d-99e8-4e22-9767-3a8e029045cb",
   "metadata": {},
   "outputs": [],
   "source": [
    "uses = prp.collect_uses(records=records, uses=preprocessed_uses)\n",
    "\n",
    "uses"
   ]
  },
  {
   "cell_type": "code",
   "execution_count": null,
   "id": "7c45f480-cc14-41ff-a736-a55ce43a0921",
   "metadata": {
    "tags": []
   },
   "outputs": [],
   "source": [
    "uses.info(show_counts=True)"
   ]
  },
  {
   "cell_type": "markdown",
   "id": "6e6d8d35-c6b0-477b-bf0c-8797f25efaa1",
   "metadata": {},
   "source": [
    "## Factor datasets with respect to ID spaces"
   ]
  },
  {
   "cell_type": "markdown",
   "id": "a7f4b6be-7a52-42a1-a93a-a8db2358396f",
   "metadata": {},
   "source": [
    "### Consumptions"
   ]
  },
  {
   "cell_type": "code",
   "execution_count": null,
   "id": "4bfdd003-af5e-45fa-8785-55dd8af9a255",
   "metadata": {
    "tags": []
   },
   "outputs": [],
   "source": [
    "%%time\n",
    "\n",
    "factored_consumptions = prp.factor_consumptions(\n",
    "    consumptions=consumptions,\n",
    "    accounts=accounts,\n",
    "    meters=meters,\n",
    "    rates=rates\n",
    ")\n",
    "\n",
    "factored_consumptions"
   ]
  },
  {
   "cell_type": "code",
   "execution_count": null,
   "id": "eb0bb009-f5e0-4505-8604-34a2e06e924b",
   "metadata": {
    "tags": []
   },
   "outputs": [],
   "source": [
    "factored_consumptions.info(show_counts=True)"
   ]
  },
  {
   "cell_type": "markdown",
   "id": "dcea12f8-a2c3-4706-ab86-de6f5a05afd7",
   "metadata": {},
   "source": [
    "### PowerThefts"
   ]
  },
  {
   "cell_type": "code",
   "execution_count": null,
   "id": "a11d96e2-f87f-4d17-8fa9-403321d71c5d",
   "metadata": {
    "tags": []
   },
   "outputs": [],
   "source": [
    "factored_powerthefts = prp.factor_powerthefts(\n",
    "    powerthefts=powerthefts,\n",
    "    accounts=accounts,\n",
    "    methods=methods,\n",
    "    places=places\n",
    ")\n",
    "\n",
    "factored_powerthefts"
   ]
  },
  {
   "cell_type": "code",
   "execution_count": null,
   "id": "70ecd002-2859-4b45-8367-1426bd41f283",
   "metadata": {
    "tags": []
   },
   "outputs": [],
   "source": [
    "factored_powerthefts.info(show_counts=True)"
   ]
  },
  {
   "cell_type": "markdown",
   "id": "24d6dc87-b0a5-48c4-876d-ebdc906fce75",
   "metadata": {},
   "source": [
    "### Locations and Records"
   ]
  },
  {
   "cell_type": "code",
   "execution_count": null,
   "id": "392ae107-1d88-4626-b656-91071af6f2d4",
   "metadata": {
    "tags": []
   },
   "outputs": [],
   "source": [
    "factored_records_and_locations = prp.factor_records_and_locations(\n",
    "    records=records,\n",
    "    accounts=accounts,\n",
    "    powers=powers,\n",
    "    uses=uses\n",
    ")\n",
    "\n",
    "factored_records_and_locations"
   ]
  },
  {
   "cell_type": "code",
   "execution_count": null,
   "id": "09997980-db46-439c-98d1-c02b802651e5",
   "metadata": {
    "tags": []
   },
   "outputs": [],
   "source": [
    "factored_records_and_locations.info(show_counts=True)"
   ]
  },
  {
   "cell_type": "markdown",
   "id": "15b87c3b-29d8-44e2-a167-1c0fd2b0572c",
   "metadata": {},
   "source": [
    "#### Locations\n",
    "Location is only supposed to change based on `account_id`."
   ]
  },
  {
   "cell_type": "code",
   "execution_count": null,
   "id": "11c0e01a-e87b-49e8-857a-ec440d18fd32",
   "metadata": {},
   "outputs": [],
   "source": [
    "factored_locations = prp.factor_locations(\n",
    "    factored_records_and_locations=factored_records_and_locations\n",
    ")\n",
    "\n",
    "factored_locations"
   ]
  },
  {
   "cell_type": "code",
   "execution_count": null,
   "id": "4a64e9fb-1ecf-482b-a1ca-5547be174619",
   "metadata": {},
   "outputs": [],
   "source": [
    "factored_locations.info(show_counts=True)"
   ]
  },
  {
   "cell_type": "markdown",
   "id": "43e5b976-2688-454f-a5e7-761c408db049",
   "metadata": {},
   "source": [
    "##### Check Unique Keys"
   ]
  },
  {
   "cell_type": "code",
   "execution_count": null,
   "id": "10b9ddb7-8d0e-478d-bcaf-7d4f3b3945ca",
   "metadata": {},
   "outputs": [],
   "source": [
    "LOCATION_UNIQUE_KEY = [\"account_id\"]\n",
    "\n",
    "factored_locations[\n",
    "    factored_locations.duplicated(subset=LOCATION_UNIQUE_KEY, keep=False)\n",
    "]"
   ]
  },
  {
   "cell_type": "markdown",
   "id": "64b1b5fc-180d-48c5-a7f2-5c8668412363",
   "metadata": {},
   "source": [
    "`account_id` is indeed UNIQUE KEY to `x` and `y`."
   ]
  },
  {
   "cell_type": "markdown",
   "id": "cc3c9ccb-17ee-4132-aea7-bc07467a1b26",
   "metadata": {},
   "source": [
    "#### Records"
   ]
  },
  {
   "cell_type": "code",
   "execution_count": null,
   "id": "eaf1d182-73c4-4f5f-badc-4e88acb30a3a",
   "metadata": {},
   "outputs": [],
   "source": [
    "factored_records = prp.factor_records(\n",
    "    factored_records_and_locations=factored_records_and_locations\n",
    ")\n",
    "\n",
    "factored_records"
   ]
  },
  {
   "cell_type": "code",
   "execution_count": null,
   "id": "4cd092ed-a52f-40e3-8971-bc78d218ba8c",
   "metadata": {},
   "outputs": [],
   "source": [
    "factored_records.info(show_counts=True)"
   ]
  },
  {
   "cell_type": "markdown",
   "id": "75b7bec6-c1f9-4941-8b33-12d29486f01b",
   "metadata": {},
   "source": [
    "### Representations"
   ]
  },
  {
   "cell_type": "code",
   "execution_count": null,
   "id": "d1cc3960-cc35-41bf-8506-c7a3b59f1f60",
   "metadata": {
    "tags": []
   },
   "outputs": [],
   "source": [
    "factored_representations = prp.factor_representations(\n",
    "    representations=representations,\n",
    "    accounts=accounts,\n",
    "    suppliers=suppliers\n",
    ")\n",
    "\n",
    "factored_representations"
   ]
  },
  {
   "cell_type": "code",
   "execution_count": null,
   "id": "502ffddc-a547-4f39-b871-507f26d87a6d",
   "metadata": {
    "tags": []
   },
   "outputs": [],
   "source": [
    "factored_representations.info(show_counts=True)"
   ]
  },
  {
   "cell_type": "markdown",
   "id": "79f66f71-e92a-46a0-a7c0-8fc62bc434b0",
   "metadata": {},
   "source": [
    "### Requests"
   ]
  },
  {
   "cell_type": "code",
   "execution_count": null,
   "id": "c3d28971-42af-49bb-8607-334c13a80341",
   "metadata": {
    "tags": []
   },
   "outputs": [],
   "source": [
    "factored_requests = prp.factor_requests(requests=requests, accounts=accounts)\n",
    "\n",
    "factored_requests"
   ]
  },
  {
   "cell_type": "code",
   "execution_count": null,
   "id": "3b3fc28a-3cff-4d67-8c48-8db3c9a58cd4",
   "metadata": {
    "tags": []
   },
   "outputs": [],
   "source": [
    "factored_requests.info(show_counts=True)"
   ]
  },
  {
   "cell_type": "markdown",
   "id": "66e35890-8861-4c90-9f2b-2160acb38f85",
   "metadata": {},
   "source": [
    "### Tests"
   ]
  },
  {
   "cell_type": "code",
   "execution_count": null,
   "id": "737d85c6-e068-44d1-9287-2884b74f22b8",
   "metadata": {
    "tags": []
   },
   "outputs": [],
   "source": [
    "tests = prp.factor_tests(tests=preprocessed_tests, accounts=accounts)\n",
    "\n",
    "tests"
   ]
  },
  {
   "cell_type": "code",
   "execution_count": null,
   "id": "0a8dbf96-c6a3-4a64-b693-3c592c4bfbcf",
   "metadata": {
    "tags": []
   },
   "outputs": [],
   "source": [
    "tests.info(show_counts=True)"
   ]
  },
  {
   "cell_type": "markdown",
   "id": "44293d07-9c37-4f51-a7c4-7f5e654a7260",
   "metadata": {},
   "source": [
    "## Save factored datasets"
   ]
  },
  {
   "cell_type": "code",
   "execution_count": null,
   "id": "7756ead4-c827-49ea-9518-a361d345d331",
   "metadata": {},
   "outputs": [],
   "source": [
    "%%time\n",
    "\n",
    "catalog.save(\"factored_consumptions\", factored_consumptions)\n",
    "catalog.save(\"factored_locations\", factored_locations)\n",
    "catalog.save(\"factored_powerthefts\", factored_powerthefts)\n",
    "catalog.save(\"factored_records\", factored_records)\n",
    "catalog.save(\"factored_representations\", factored_representations)\n",
    "catalog.save(\"factored_requests\", factored_requests)"
   ]
  },
  {
   "cell_type": "markdown",
   "id": "fc8a83ab-c76b-4aa0-be75-70c021d689ef",
   "metadata": {},
   "source": [
    "## Save primary datasets"
   ]
  },
  {
   "cell_type": "code",
   "execution_count": null,
   "id": "56a3a1e6-18f7-4932-83d6-e3ef86aaa301",
   "metadata": {},
   "outputs": [],
   "source": [
    "%%time\n",
    "\n",
    "catalog.save(\"accounts\", accounts)\n",
    "catalog.save(\"meters\", meters)\n",
    "catalog.save(\"methods\", methods)\n",
    "catalog.save(\"places\", places)\n",
    "catalog.save(\"powers\", powers)\n",
    "catalog.save(\"rates\", rates)\n",
    "catalog.save(\"suppliers\", suppliers)\n",
    "catalog.save(\"tests\", tests)\n",
    "catalog.save(\"uses\", uses)"
   ]
  }
 ],
 "metadata": {
  "celltoolbar": "Tags",
  "kernelspec": {
   "display_name": "Kedro (hedno)",
   "language": "python",
   "name": "kedro_hedno"
  },
  "language_info": {
   "codemirror_mode": {
    "name": "ipython",
    "version": 3
   },
   "file_extension": ".py",
   "mimetype": "text/x-python",
   "name": "python",
   "nbconvert_exporter": "python",
   "pygments_lexer": "ipython3",
   "version": "3.10.12"
  }
 },
 "nbformat": 4,
 "nbformat_minor": 5
}
